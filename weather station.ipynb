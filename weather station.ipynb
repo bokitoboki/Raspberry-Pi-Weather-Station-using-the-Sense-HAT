{
 "cells": [
  {
   "attachments": {},
   "cell_type": "markdown",
   "metadata": {},
   "source": [
    "Setting up the Sense HAT as a Weather Station\n"
   ]
  },
  {
   "cell_type": "code",
   "execution_count": null,
   "metadata": {},
   "outputs": [],
   "source": [
    "pip install sense_hat"
   ]
  },
  {
   "cell_type": "code",
   "execution_count": null,
   "metadata": {},
   "outputs": [],
   "source": [
    "#!/usr/bin/python\n",
    "import sense_hat\n",
    "from sense_hat import SenseHat\n",
    "import time\n",
    "import sys\n",
    "\n",
    "sense = SenseHat()\n",
    "sense.clear()\n",
    "\n",
    "try:\n",
    "      while True:\n",
    "           temp = sense.get_temperature()\n",
    "           temp = round(temp, 1)\n",
    "           print(\"Temperature C\",temp) \n",
    "\n",
    "           humidity = sense.get_humidity()  \n",
    "           humidity = round(humidity, 1)  \n",
    "           print(\"Humidity :\",humidity)  \n",
    "\n",
    "           pressure = sense.get_pressure()\n",
    "           pressure = round(pressure, 1)\n",
    "           print(\"Pressure:\",pressure)\n",
    "\n",
    "           sense.show_message(\"Temperature C\" + str(temp) + \"Humidity:\" + str(humidity) + \"Pressure:\" + str(pressure), scroll_speed=(0.08), back_colour= [0,0,200])\n",
    "\n",
    "           time.sleep(1)\n",
    "except KeyboardInterrupt:\n",
    "      pass\n",
    "\n",
    "sense.clear()"
   ]
  },
  {
   "attachments": {},
   "cell_type": "markdown",
   "metadata": {},
   "source": [
    "Note: time.sleep(1) is a simple call to the time library that puts the script to sleep for approximately one second. It is mainly to reduce the rate at which the data is read and outputted.\n",
    "\n",
    "Speed up the read rate by decreasing this number or deleting the line. Slow it down further by increasing the number. The number should approximately be the number of seconds you want it to wait between reads."
   ]
  }
 ],
 "metadata": {
  "kernelspec": {
   "display_name": "Python 3",
   "language": "python",
   "name": "python3"
  },
  "language_info": {
   "codemirror_mode": {
    "name": "ipython",
    "version": 3
   },
   "file_extension": ".py",
   "mimetype": "text/x-python",
   "name": "python",
   "nbconvert_exporter": "python",
   "pygments_lexer": "ipython3",
   "version": "3.11.1"
  },
  "orig_nbformat": 4,
  "vscode": {
   "interpreter": {
    "hash": "5b7aaf19e908428fed5ba73cd91fc6e2990dc28fb2d314a54f8febf8f7b95ab0"
   }
  }
 },
 "nbformat": 4,
 "nbformat_minor": 2
}

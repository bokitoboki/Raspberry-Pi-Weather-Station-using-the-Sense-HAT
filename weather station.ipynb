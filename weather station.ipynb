{
 "cells": [
  {
   "cell_type": "code",
   "execution_count": 11,
   "metadata": {},
   "outputs": [
    {
     "ename": "ModuleNotFoundError",
     "evalue": "No module named 'sense_hat'",
     "output_type": "error",
     "traceback": [
      "\u001b[1;31m---------------------------------------------------------------------------\u001b[0m",
      "\u001b[1;31mModuleNotFoundError\u001b[0m                       Traceback (most recent call last)",
      "Cell \u001b[1;32mIn[11], line 1\u001b[0m\n\u001b[1;32m----> 1\u001b[0m \u001b[39mfrom\u001b[39;00m \u001b[39msense_hat\u001b[39;00m \u001b[39mimport\u001b[39;00m SenseHat\n\u001b[0;32m      3\u001b[0m sense \u001b[39m=\u001b[39m SenseHat()\n",
      "\u001b[1;31mModuleNotFoundError\u001b[0m: No module named 'sense_hat'"
     ]
    }
   ],
   "source": [
    "from sense_hat import SenseHat\n",
    "\n",
    "sense = SenseHat()"
   ]
  }
 ],
 "metadata": {
  "kernelspec": {
   "display_name": "Python 3",
   "language": "python",
   "name": "python3"
  },
  "language_info": {
   "codemirror_mode": {
    "name": "ipython",
    "version": 3
   },
   "file_extension": ".py",
   "mimetype": "text/x-python",
   "name": "python",
   "nbconvert_exporter": "python",
   "pygments_lexer": "ipython3",
   "version": "3.11.1"
  },
  "orig_nbformat": 4,
  "vscode": {
   "interpreter": {
    "hash": "5b7aaf19e908428fed5ba73cd91fc6e2990dc28fb2d314a54f8febf8f7b95ab0"
   }
  }
 },
 "nbformat": 4,
 "nbformat_minor": 2
}
